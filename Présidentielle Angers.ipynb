{
 "cells": [
  {
   "cell_type": "code",
   "execution_count": 172,
   "metadata": {
    "collapsed": true
   },
   "outputs": [],
   "source": [
    "import pandas as pd\n",
    "\n",
    "import progressbar\n",
    "\n",
    "import urllib"
   ]
  },
  {
   "cell_type": "code",
   "execution_count": 173,
   "metadata": {},
   "outputs": [],
   "source": [
    "bar = progressbar.ProgressBar(max_value=progressbar.UnknownLength)\n",
    "idx = 0"
   ]
  },
  {
   "cell_type": "code",
   "execution_count": 174,
   "metadata": {},
   "outputs": [],
   "source": [
    "url = \"https://www.data.gouv.fr/fr/datasets/r/97a18cbc-abe4-4a6d-8459-cdad7a174370\""
   ]
  },
  {
   "cell_type": "code",
   "execution_count": 175,
   "metadata": {},
   "outputs": [
    {
     "name": "stderr",
     "output_type": "stream",
     "text": [
      "\r",
      "                                                                               \r",
      "\r",
      "/ 0 Elapsed Time: 0:00:00                                                      "
     ]
    }
   ],
   "source": [
    "# Va chercher\n",
    "data = urllib.request.urlopen(url)\n",
    "\n",
    "# display\n",
    "idx += 1\n",
    "bar.update(idx)"
   ]
  },
  {
   "cell_type": "code",
   "execution_count": 176,
   "metadata": {},
   "outputs": [
    {
     "name": "stderr",
     "output_type": "stream",
     "text": [
      "\r",
      "                                                                               \r",
      "\r",
      "- 2 Elapsed Time: 0:00:00                                                      "
     ]
    }
   ],
   "source": [
    "df = pd.read_csv(data, sep=';', dtype={'Bureau': str})\n",
    "\n",
    "del df['Geo Shape']\n",
    "del df['geo_point_2d']\n",
    "\n",
    "# display\n",
    "idx += 1\n",
    "bar.update(idx)"
   ]
  },
  {
   "cell_type": "code",
   "execution_count": 177,
   "metadata": {},
   "outputs": [],
   "source": [
    "# Nombre de valeurs unique de codes bureau = nombre de lignes\n",
    "assert df['Bureau'].nunique() == df.shape[0]"
   ]
  },
  {
   "cell_type": "code",
   "execution_count": 178,
   "metadata": {},
   "outputs": [],
   "source": [
    "# Code bureau --> 3 caractères\n",
    "assert (df['Bureau'].str.len() == 3).all()"
   ]
  },
  {
   "cell_type": "code",
   "execution_count": 179,
   "metadata": {},
   "outputs": [],
   "source": [
    "# Colonne libellés --> non vides\n",
    "assert not df['Libellés'].isnull().any()"
   ]
  },
  {
   "cell_type": "code",
   "execution_count": 180,
   "metadata": {},
   "outputs": [],
   "source": [
    "# Colonne inscrits --> supérieur strict à 0\n",
    "assert (df['Inscrits'] > 0).all()"
   ]
  },
  {
   "cell_type": "code",
   "execution_count": 181,
   "metadata": {
    "scrolled": true
   },
   "outputs": [],
   "source": [
    "# Colonne votants --> supérieur strict à 0\n",
    "assert (df['NB_Votants'] > 0).all()"
   ]
  },
  {
   "cell_type": "code",
   "execution_count": 182,
   "metadata": {},
   "outputs": [],
   "source": [
    "# Votants < Inscrits\n",
    "assert (df['NB_Votants'] <= df['Inscrits']).all()"
   ]
  },
  {
   "cell_type": "code",
   "execution_count": 183,
   "metadata": {},
   "outputs": [],
   "source": [
    "# Toutes les colonnes à partir de inscrits doivent être positives\n",
    "assert (df.iloc[:, 2:] > 0).all().all()"
   ]
  },
  {
   "cell_type": "code",
   "execution_count": 184,
   "metadata": {},
   "outputs": [
    {
     "name": "stderr",
     "output_type": "stream",
     "text": [
      "\r",
      "                                                                               \r",
      "\r",
      "\\ 3 Elapsed Time: 0:00:00                                                      "
     ]
    }
   ],
   "source": [
    "# display\n",
    "idx += 1\n",
    "bar.update(idx)"
   ]
  },
  {
   "cell_type": "code",
   "execution_count": 185,
   "metadata": {},
   "outputs": [],
   "source": [
    "result = True\n",
    "for c in df.columns:\n",
    "    if 'POURCENTAGE' in c:\n",
    "        if not (df[c] <= 100).all():\n",
    "            result = False\n",
    "\n",
    "assert result"
   ]
  },
  {
   "cell_type": "code",
   "execution_count": 186,
   "metadata": {
    "collapsed": true
   },
   "outputs": [],
   "source": [
    "from sqlalchemy import create_engine"
   ]
  },
  {
   "cell_type": "code",
   "execution_count": 187,
   "metadata": {
    "collapsed": true
   },
   "outputs": [],
   "source": [
    "engine = create_engine(\"sqlite:///data.sqlite\")\n",
    "connection = engine.connect()"
   ]
  },
  {
   "cell_type": "code",
   "execution_count": 188,
   "metadata": {},
   "outputs": [
    {
     "name": "stderr",
     "output_type": "stream",
     "text": [
      "\r",
      "                                                                               \r",
      "\r",
      "| 4 Elapsed Time: 0:00:00                                                      "
     ]
    }
   ],
   "source": [
    "# Export des noms de bureaux\n",
    "df[['Bureau', 'Libellés']].to_sql('bureaux', connection,\n",
    "                                  if_exists='replace', index=False)\n",
    "\n",
    "# display\n",
    "idx += 1\n",
    "bar.update(idx)"
   ]
  },
  {
   "cell_type": "code",
   "execution_count": 189,
   "metadata": {},
   "outputs": [],
   "source": [
    "# On crée la liste des colonnes contenant des nombres de votes\n",
    "ll = ['Inscrits']\n",
    "\n",
    "for c in df.columns:\n",
    "    if 'NB_' in c:\n",
    "        ll.append(c)"
   ]
  },
  {
   "cell_type": "code",
   "execution_count": 190,
   "metadata": {},
   "outputs": [
    {
     "name": "stderr",
     "output_type": "stream",
     "text": [
      "\r",
      "                                                                               \r",
      "\r",
      "/ 5 Elapsed Time: 0:00:01                                                      "
     ]
    }
   ],
   "source": [
    "# Transformation : création de la table votes\n",
    "pd.melt(\n",
    "    df,\n",
    "    id_vars=['Bureau'],\n",
    "    value_vars=ll,\n",
    "    var_name='Type de vote',\n",
    "    value_name='Nombre de votes'\n",
    ").to_sql('votes', connection, if_exists='replace', index=False)\n",
    "\n",
    "# display\n",
    "idx += 1\n",
    "bar.update(idx)"
   ]
  },
  {
   "cell_type": "code",
   "execution_count": 191,
   "metadata": {},
   "outputs": [],
   "source": [
    "# On crée la liste des colonnes contenant des pourcentags\n",
    "ll = []\n",
    "\n",
    "for c in df.columns:\n",
    "    if 'POURCENTAGE_' in c:\n",
    "        ll.append(c)"
   ]
  },
  {
   "cell_type": "code",
   "execution_count": 192,
   "metadata": {},
   "outputs": [
    {
     "name": "stderr",
     "output_type": "stream",
     "text": [
      "\r",
      "                                                                               \r",
      "\r",
      "- 6 Elapsed Time: 0:00:01                                                      "
     ]
    }
   ],
   "source": [
    "# Transformation : création de la table votes\n",
    "pd.melt(\n",
    "    df,\n",
    "    id_vars=['Bureau'],\n",
    "    value_vars=ll,\n",
    "    var_name='Type de vote',\n",
    "    value_name='Pourcentage'\n",
    ").to_sql('pourcentages', connection, if_exists='replace', index=False)\n",
    "\n",
    "# display\n",
    "idx += 1\n",
    "bar.update(idx)"
   ]
  },
  {
   "cell_type": "code",
   "execution_count": 193,
   "metadata": {},
   "outputs": [
    {
     "name": "stderr",
     "output_type": "stream",
     "text": [
      "\\ 7 Elapsed Time: 0:00:01                                                      "
     ]
    }
   ],
   "source": [
    "# Export des données brutes\n",
    "df.to_sql('presidentielle', connection, if_exists='replace', index=False)\n",
    "\n",
    "# display\n",
    "idx += 1\n",
    "bar.update(idx)"
   ]
  },
  {
   "cell_type": "code",
   "execution_count": 194,
   "metadata": {
    "collapsed": true
   },
   "outputs": [],
   "source": [
    "connection.close()"
   ]
  },
  {
   "cell_type": "code",
   "execution_count": 195,
   "metadata": {},
   "outputs": [
    {
     "name": "stderr",
     "output_type": "stream",
     "text": [
      "| 7 Elapsed Time: 0:00:02                                                      \n"
     ]
    }
   ],
   "source": [
    "bar.finish()"
   ]
  },
  {
   "cell_type": "code",
   "execution_count": null,
   "metadata": {
    "collapsed": true
   },
   "outputs": [],
   "source": []
  }
 ],
 "metadata": {
  "kernelspec": {
   "display_name": "Python 3",
   "language": "python",
   "name": "python3"
  },
  "language_info": {
   "codemirror_mode": {
    "name": "ipython",
    "version": 3
   },
   "file_extension": ".py",
   "mimetype": "text/x-python",
   "name": "python",
   "nbconvert_exporter": "python",
   "pygments_lexer": "ipython3",
   "version": "3.6.2"
  }
 },
 "nbformat": 4,
 "nbformat_minor": 2
}
