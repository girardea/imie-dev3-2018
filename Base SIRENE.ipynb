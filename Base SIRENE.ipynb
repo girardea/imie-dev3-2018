{
 "cells": [
  {
   "cell_type": "markdown",
   "metadata": {},
   "source": [
    "# 1. Import des modules nécessaires"
   ]
  },
  {
   "cell_type": "code",
   "execution_count": 1,
   "metadata": {
    "collapsed": true
   },
   "outputs": [],
   "source": [
    "import datetime as dt\n",
    "\n",
    "import progressbar"
   ]
  },
  {
   "cell_type": "code",
   "execution_count": 2,
   "metadata": {
    "collapsed": true
   },
   "outputs": [],
   "source": [
    "# Modules à moi\n",
    "from utils import update"
   ]
  },
  {
   "cell_type": "markdown",
   "metadata": {},
   "source": [
    "# 2. Téléchargement des fichiers quotidiens"
   ]
  },
  {
   "cell_type": "code",
   "execution_count": 3,
   "metadata": {
    "scrolled": true
   },
   "outputs": [
    {
     "name": "stderr",
     "output_type": "stream",
     "text": [
      "100% (32 of 32) |#########################| Elapsed Time: 0:01:28 Time: 0:01:28\n"
     ]
    },
    {
     "name": "stdout",
     "output_type": "stream",
     "text": [
      "2018-05-01 Pas de fichier trouvé pour ce jour.\n",
      "2018-05-05 Pas de fichier trouvé pour ce jour.\n",
      "2018-05-06 Pas de fichier trouvé pour ce jour.\n",
      "2018-05-08 Pas de fichier trouvé pour ce jour.\n",
      "2018-05-10 Pas de fichier trouvé pour ce jour.\n",
      "2018-05-12 Pas de fichier trouvé pour ce jour.\n",
      "2018-05-13 Pas de fichier trouvé pour ce jour.\n",
      "2018-05-18 cannot index with vector containing NA / NaN values\n",
      "2018-05-19 Pas de fichier trouvé pour ce jour.\n",
      "2018-05-20 Pas de fichier trouvé pour ce jour.\n",
      "2018-05-21 Pas de fichier trouvé pour ce jour.\n",
      "2018-05-23 cannot index with vector containing NA / NaN values\n",
      "2018-05-24 cannot index with vector containing NA / NaN values\n",
      "2018-05-26 Pas de fichier trouvé pour ce jour.\n",
      "2018-05-27 Pas de fichier trouvé pour ce jour.\n",
      "2018-06-01 Pas de fichier trouvé pour ce jour.\n"
     ]
    }
   ],
   "source": [
    "date = dt.date(2018, 5, 1)\n",
    "nb_days = (dt.date.today() - date).days + 1\n",
    "\n",
    "bar = progressbar.ProgressBar(max_value=nb_days)\n",
    "i = 0\n",
    "\n",
    "errors = []\n",
    "\n",
    "while date <= dt.date.today():\n",
    "    try:\n",
    "        update(date)\n",
    "    except Exception as e:\n",
    "        errors.append([date, e])\n",
    "        pass\n",
    "    \n",
    "    bar.update(i)\n",
    "    i += 1\n",
    "    \n",
    "    # incrémenter d'un jour\n",
    "    date += dt.timedelta(days=1)\n",
    "\n",
    "bar.finish()\n",
    "\n",
    "for ll in errors:\n",
    "    print(ll[0], ll[1])"
   ]
  },
  {
   "cell_type": "code",
   "execution_count": null,
   "metadata": {
    "collapsed": true
   },
   "outputs": [],
   "source": []
  },
  {
   "cell_type": "code",
   "execution_count": null,
   "metadata": {
    "collapsed": true
   },
   "outputs": [],
   "source": []
  }
 ],
 "metadata": {
  "kernelspec": {
   "display_name": "Python 3",
   "language": "python",
   "name": "python3"
  },
  "language_info": {
   "codemirror_mode": {
    "name": "ipython",
    "version": 3
   },
   "file_extension": ".py",
   "mimetype": "text/x-python",
   "name": "python",
   "nbconvert_exporter": "python",
   "pygments_lexer": "ipython3",
   "version": "3.6.2"
  }
 },
 "nbformat": 4,
 "nbformat_minor": 2
}
