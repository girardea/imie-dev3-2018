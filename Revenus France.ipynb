{
 "cells": [
  {
   "cell_type": "code",
   "execution_count": 1,
   "metadata": {
    "collapsed": true
   },
   "outputs": [],
   "source": [
    "import pandas as pd\n",
    "\n",
    "import re\n",
    "\n",
    "from sqlalchemy import create_engine"
   ]
  },
  {
   "cell_type": "code",
   "execution_count": 7,
   "metadata": {
    "collapsed": true
   },
   "outputs": [],
   "source": [
    "# Ouverture de la connexion vers la BDD\n",
    "engine = create_engine('sqlite:///data.sqlite')\n",
    "connection = engine.connect()"
   ]
  },
  {
   "cell_type": "code",
   "execution_count": 3,
   "metadata": {
    "collapsed": true
   },
   "outputs": [],
   "source": [
    "df = pd.read_excel('BASE_TD_FILO_DISP_IRIS_2014.xls', header=5,\n",
    "                   dtype={'REG': str})"
   ]
  },
  {
   "cell_type": "code",
   "execution_count": 4,
   "metadata": {},
   "outputs": [
    {
     "name": "stdout",
     "output_type": "stream",
     "text": [
      "<class 'pandas.core.frame.DataFrame'>\n",
      "RangeIndex: 12209 entries, 0 to 12208\n",
      "Data columns (total 30 columns):\n",
      "IRIS             12209 non-null object\n",
      "LIBIRIS          12209 non-null object\n",
      "COM              12209 non-null object\n",
      "LIBCOM           12209 non-null object\n",
      "DISP_TP6014      9397 non-null float64\n",
      "DISP_Q114        12196 non-null float64\n",
      "DISP_MED14       12196 non-null float64\n",
      "DISP_Q314        12196 non-null float64\n",
      "DISP_EQ14        12196 non-null float64\n",
      "DISP_D114        12196 non-null float64\n",
      "DISP_D214        12196 non-null float64\n",
      "DISP_D314        12196 non-null float64\n",
      "DISP_D414        12196 non-null float64\n",
      "DISP_D614        12196 non-null float64\n",
      "DISP_D714        12196 non-null float64\n",
      "DISP_D814        12196 non-null float64\n",
      "DISP_D914        12196 non-null float64\n",
      "DISP_RD14        12196 non-null float64\n",
      "DISP_S80S2014    12196 non-null float64\n",
      "DISP_GI14        12196 non-null float64\n",
      "DISP_PTSAC14     11788 non-null float64\n",
      "DISP_PBEN14      11788 non-null float64\n",
      "DISP_PPEN14      11788 non-null float64\n",
      "DISP_PPAT14      11788 non-null float64\n",
      "DISP_PPSOC14     11788 non-null float64\n",
      "DISP_PPFAM14     11788 non-null float64\n",
      "DISP_PPMINI14    11788 non-null float64\n",
      "DISP_PPLOGT14    11788 non-null float64\n",
      "DISP_PIMPOT14    11788 non-null float64\n",
      "note             12209 non-null int64\n",
      "dtypes: float64(25), int64(1), object(4)\n",
      "memory usage: 2.8+ MB\n"
     ]
    }
   ],
   "source": [
    "df.info()"
   ]
  },
  {
   "cell_type": "code",
   "execution_count": 5,
   "metadata": {},
   "outputs": [],
   "source": [
    "# Extraction\n",
    "dft = df[['IRIS', 'DISP_MED14']]\n",
    "\n",
    "# Renommage de colonnes\n",
    "dft = dft.rename(columns={'DISP_MED14': 'REVMED'})\n",
    "\n",
    "# Export\n",
    "dft.to_sql('revenus', connection, if_exists='replace', index=False)"
   ]
  },
  {
   "cell_type": "code",
   "execution_count": 13,
   "metadata": {},
   "outputs": [],
   "source": [
    "connection.close()"
   ]
  },
  {
   "cell_type": "code",
   "execution_count": null,
   "metadata": {
    "collapsed": true
   },
   "outputs": [],
   "source": []
  }
 ],
 "metadata": {
  "kernelspec": {
   "display_name": "Python 3",
   "language": "python",
   "name": "python3"
  },
  "language_info": {
   "codemirror_mode": {
    "name": "ipython",
    "version": 3
   },
   "file_extension": ".py",
   "mimetype": "text/x-python",
   "name": "python",
   "nbconvert_exporter": "python",
   "pygments_lexer": "ipython3",
   "version": "3.6.2"
  }
 },
 "nbformat": 4,
 "nbformat_minor": 2
}
